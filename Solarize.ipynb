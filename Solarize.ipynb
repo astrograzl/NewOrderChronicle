{
 "cells": [
  {
   "cell_type": "markdown",
   "id": "d89aafe0-94ee-4801-9019-5117457fff72",
   "metadata": {},
   "source": [
    "# Power of Sol energy during long night\n",
    "## Cumulative sumarization from all star radiation"
   ]
  },
  {
   "cell_type": "code",
   "execution_count": null,
   "id": "f3b079d3-9100-4642-b65d-ca11270d8c6f",
   "metadata": {},
   "outputs": [],
   "source": [
    "import numpy as num\n",
    "import scipy as sci\n",
    "import astropy as apy\n",
    "import seaborn as sns"
   ]
  }
 ],
 "metadata": {
  "kernelspec": {
   "display_name": "Python 3 (ipykernel)",
   "language": "python",
   "name": "python3"
  },
  "language_info": {
   "codemirror_mode": {
    "name": "ipython",
    "version": 3
   },
   "file_extension": ".py",
   "mimetype": "text/x-python",
   "name": "python",
   "nbconvert_exporter": "python",
   "pygments_lexer": "ipython3",
   "version": "3.12.7"
  }
 },
 "nbformat": 4,
 "nbformat_minor": 5
}
